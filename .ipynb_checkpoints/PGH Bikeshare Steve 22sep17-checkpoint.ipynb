{
 "cells": [
  {
   "cell_type": "markdown",
   "metadata": {},
   "source": [
    "# Initial Exploratory Analysis of PGH Healthy Ride\n",
    "\n",
    "Since this is mostly staying internal, at least for now, I won't spend a lot of time laying out the situation. We have 2.5 years of usage. Our first idea is to explore the variation in how subscribers and customers use the service. Healthy Ride offers three usage options: 1) customers who make a one-time purchase and can use the bike for up to half an hour (\\$2/ride); 2) standard memberships that provide unlimited 30-minute rights (\\$12/mo); and 3) deluxe memberships that offer unlimited hour-long rides (\\$20/mo).\n",
    "\n",
    "We would like to look at how rides are being used. Marcus has done [a nice first step](https://github.com/DSDiehl/PGH-Healthy-Ride/blob/master/PGHBikeShare-WIP.ipynb) and I intend to build on it. Marcus has given a nice way to quickly loading in data, which I intend to copy it here, and looked at the mean values by customer type.\n",
    "\n",
    "I will build on that analysis by looking at the distributions by type and running a formal Analysis of Variance (ANOVA) test to make sure that the results are statistically significant. I anticipate that they will be, given the difference that Marcus found. However, there are some points that need a deeper look. The data are coded as either 'customer' or 'subscriber', lumping the two subscriber groups (standard and deluxe) together. It seems odd and unexpected that customers would use the bikes for so much longer than subscribers. I would like to review that result. Additionally, by looking at distributions, I would like to see if there are any indications about different behaviors for standard and deluxe subscribers. This point considered, we might see a lack of statistical difference between the two groups."
   ]
  },
  {
   "cell_type": "code",
   "execution_count": 1,
   "metadata": {},
   "outputs": [
    {
     "name": "stderr",
     "output_type": "stream",
     "text": [
      "C:\\Users\\srsch\\Anaconda3\\lib\\site-packages\\statsmodels\\compat\\pandas.py:56: FutureWarning: The pandas.core.datetools module is deprecated and will be removed in a future version. Please use the pandas.tseries module instead.\n",
      "  from pandas.core import datetools\n"
     ]
    }
   ],
   "source": [
    "# load pandas and matplotlib for dataframes and graphing\n",
    "import pandas as pd\n",
    "import matplotlib.pyplot as plt\n",
    "import numpy as np\n",
    "\n",
    "# make sure matplotlib graphs are displayed in the notebook\n",
    "%matplotlib inline\n",
    "\n",
    "# load statsmodels modules and tools for running an ANOVA\n",
    "import statsmodels.api as sm\n",
    "from statsmodels.formula.api import ols"
   ]
  },
  {
   "cell_type": "markdown",
   "metadata": {},
   "source": [
    "## Load in data"
   ]
  },
  {
   "cell_type": "code",
   "execution_count": 2,
   "metadata": {},
   "outputs": [],
   "source": [
    "# changing my mind...I will import data individually before joining together. This way, I can add columns year and quarter\n",
    "# adding this data will prepare us for working with some other ways of slicing the data, including looking at change over time\n",
    "\n",
    "# load in data\n",
    "pghhr_2015_q2 = pd.read_csv(\"2015-Q2\\HealthyRide Rentals 2015 Q2.csv\")\n",
    "pghhr_2015_q3 = pd.read_csv(\"2015-Q3\\HealthyRide Rentals 2015 Q3.csv\")\n",
    "pghhr_2015_q4 = pd.read_csv(\"2015-Q4\\HealthyRide Rentals 2015 Q4.csv\")\n",
    "pghhr_2016_q1 = pd.read_csv(\"2016-Q1\\HealthyRide Rentals 2016 Q1.csv\")\n",
    "pghhr_2016_q2 = pd.read_csv(\"2016-Q2\\HealthyRide Rentals 2016 Q2.csv\")\n",
    "pghhr_2016_q3 = pd.read_csv(\"2016-Q3\\HealthyRide Rentals 2016 Q3.csv\")\n",
    "pghhr_2016_q4 = pd.read_csv(\"2016-Q4\\HealthyRide Rentals 2016 Q4.csv\")\n",
    "pghhr_2017_q1 = pd.read_csv(\"2017-Q1\\Healthy Ride Rentals 2017-Q1.csv\")\n",
    "pghhr_2017_q2 = pd.read_csv(\"2017-Q2\\Healthy Ride Rentals 2017-Q2.csv\", encoding='latin-1')\n",
    "\n",
    "# add time period data\n",
    "pghhr_2015_q2[\"year\"] = 2015\n",
    "pghhr_2015_q2[\"qt\"] = 2\n",
    "\n",
    "pghhr_2015_q3[\"year\"] = 2015\n",
    "pghhr_2015_q3[\"qt\"] = 3\n",
    "\n",
    "pghhr_2015_q4[\"year\"] = 2015\n",
    "pghhr_2015_q4[\"qt\"] = 4\n",
    "\n",
    "pghhr_2016_q1[\"year\"] = 2016\n",
    "pghhr_2016_q1[\"qt\"] = 1\n",
    "\n",
    "pghhr_2016_q2[\"year\"] = 2016\n",
    "pghhr_2016_q2[\"qt\"] = 2\n",
    "\n",
    "pghhr_2016_q3[\"year\"] = 2016\n",
    "pghhr_2016_q3[\"qt\"] = 3\n",
    "\n",
    "pghhr_2016_q4[\"year\"] = 2016\n",
    "pghhr_2016_q4[\"qt\"] = 4\n",
    "\n",
    "pghhr_2017_q1[\"year\"] = 2017\n",
    "pghhr_2017_q1[\"qt\"] = 1\n",
    "\n",
    "pghhr_2017_q2[\"year\"] = 2017\n",
    "pghhr_2017_q2[\"qt\"] = 2"
   ]
  },
  {
   "cell_type": "markdown",
   "metadata": {},
   "source": [
    "A closer look at the data shows that only the 2017 data has the customer/subscriber marking. So, I will only continue using that data. Looking a head, this gives us an interesting opportunity: one next step could include training a machine learning algorithm on the 2017 data and then using that to classify 2015 and 2016 data as either subscriber or customer."
   ]
  },
  {
   "cell_type": "code",
   "execution_count": 3,
   "metadata": {},
   "outputs": [
    {
     "data": {
      "text/html": [
       "<div>\n",
       "<style>\n",
       "    .dataframe thead tr:only-child th {\n",
       "        text-align: right;\n",
       "    }\n",
       "\n",
       "    .dataframe thead th {\n",
       "        text-align: left;\n",
       "    }\n",
       "\n",
       "    .dataframe tbody tr th {\n",
       "        vertical-align: top;\n",
       "    }\n",
       "</style>\n",
       "<table border=\"1\" class=\"dataframe\">\n",
       "  <thead>\n",
       "    <tr style=\"text-align: right;\">\n",
       "      <th></th>\n",
       "      <th>Trip id</th>\n",
       "      <th>Starttime</th>\n",
       "      <th>Stoptime</th>\n",
       "      <th>Bikeid</th>\n",
       "      <th>Tripduration</th>\n",
       "      <th>From station id</th>\n",
       "      <th>From station name</th>\n",
       "      <th>To station id</th>\n",
       "      <th>To station name</th>\n",
       "      <th>Usertype</th>\n",
       "      <th>year</th>\n",
       "      <th>qt</th>\n",
       "      <th>dur_hh</th>\n",
       "    </tr>\n",
       "  </thead>\n",
       "  <tbody>\n",
       "    <tr>\n",
       "      <th>0</th>\n",
       "      <td>25723960</td>\n",
       "      <td>1/1/2017 8:28</td>\n",
       "      <td>1/1/2017 8:30</td>\n",
       "      <td>70478</td>\n",
       "      <td>110</td>\n",
       "      <td>1043</td>\n",
       "      <td>Coltart Ave &amp; Forbes Ave</td>\n",
       "      <td>1044</td>\n",
       "      <td>Zulema St &amp; Coltart Ave</td>\n",
       "      <td>Subscriber</td>\n",
       "      <td>2017</td>\n",
       "      <td>1</td>\n",
       "      <td>0.091667</td>\n",
       "    </tr>\n",
       "    <tr>\n",
       "      <th>1</th>\n",
       "      <td>25724207</td>\n",
       "      <td>1/1/2017 9:53</td>\n",
       "      <td>1/1/2017 10:00</td>\n",
       "      <td>70439</td>\n",
       "      <td>426</td>\n",
       "      <td>1014</td>\n",
       "      <td>Ridge Ave &amp; Brighton Rd (CCAC)</td>\n",
       "      <td>1012</td>\n",
       "      <td>North Shore Trail &amp; Fort Duquesne Bridge</td>\n",
       "      <td>Customer</td>\n",
       "      <td>2017</td>\n",
       "      <td>1</td>\n",
       "      <td>0.355000</td>\n",
       "    </tr>\n",
       "    <tr>\n",
       "      <th>2</th>\n",
       "      <td>25724297</td>\n",
       "      <td>1/1/2017 10:21</td>\n",
       "      <td>1/1/2017 10:46</td>\n",
       "      <td>70440</td>\n",
       "      <td>1498</td>\n",
       "      <td>1019</td>\n",
       "      <td>42nd St &amp; Butler St</td>\n",
       "      <td>1012</td>\n",
       "      <td>North Shore Trail &amp; Fort Duquesne Bridge</td>\n",
       "      <td>Subscriber</td>\n",
       "      <td>2017</td>\n",
       "      <td>1</td>\n",
       "      <td>1.248333</td>\n",
       "    </tr>\n",
       "    <tr>\n",
       "      <th>3</th>\n",
       "      <td>25724391</td>\n",
       "      <td>1/1/2017 11:03</td>\n",
       "      <td>1/1/2017 11:30</td>\n",
       "      <td>70002</td>\n",
       "      <td>1581</td>\n",
       "      <td>1019</td>\n",
       "      <td>42nd St &amp; Butler St</td>\n",
       "      <td>1013</td>\n",
       "      <td>Isabella St &amp; Federal St (PNC Park)</td>\n",
       "      <td>Customer</td>\n",
       "      <td>2017</td>\n",
       "      <td>1</td>\n",
       "      <td>1.317500</td>\n",
       "    </tr>\n",
       "    <tr>\n",
       "      <th>4</th>\n",
       "      <td>25724479</td>\n",
       "      <td>1/1/2017 11:43</td>\n",
       "      <td>1/1/2017 12:09</td>\n",
       "      <td>70024</td>\n",
       "      <td>1563</td>\n",
       "      <td>1018</td>\n",
       "      <td>37th St &amp; Butler St</td>\n",
       "      <td>1013</td>\n",
       "      <td>Isabella St &amp; Federal St (PNC Park)</td>\n",
       "      <td>Customer</td>\n",
       "      <td>2017</td>\n",
       "      <td>1</td>\n",
       "      <td>1.302500</td>\n",
       "    </tr>\n",
       "  </tbody>\n",
       "</table>\n",
       "</div>"
      ],
      "text/plain": [
       "    Trip id       Starttime        Stoptime  Bikeid  Tripduration  \\\n",
       "0  25723960   1/1/2017 8:28   1/1/2017 8:30   70478           110   \n",
       "1  25724207   1/1/2017 9:53  1/1/2017 10:00   70439           426   \n",
       "2  25724297  1/1/2017 10:21  1/1/2017 10:46   70440          1498   \n",
       "3  25724391  1/1/2017 11:03  1/1/2017 11:30   70002          1581   \n",
       "4  25724479  1/1/2017 11:43  1/1/2017 12:09   70024          1563   \n",
       "\n",
       "   From station id               From station name  To station id  \\\n",
       "0             1043        Coltart Ave & Forbes Ave           1044   \n",
       "1             1014  Ridge Ave & Brighton Rd (CCAC)           1012   \n",
       "2             1019             42nd St & Butler St           1012   \n",
       "3             1019             42nd St & Butler St           1013   \n",
       "4             1018             37th St & Butler St           1013   \n",
       "\n",
       "                            To station name    Usertype  year  qt    dur_hh  \n",
       "0                   Zulema St & Coltart Ave  Subscriber  2017   1  0.091667  \n",
       "1  North Shore Trail & Fort Duquesne Bridge    Customer  2017   1  0.355000  \n",
       "2  North Shore Trail & Fort Duquesne Bridge  Subscriber  2017   1  1.248333  \n",
       "3       Isabella St & Federal St (PNC Park)    Customer  2017   1  1.317500  \n",
       "4       Isabella St & Federal St (PNC Park)    Customer  2017   1  1.302500  "
      ]
     },
     "execution_count": 3,
     "metadata": {},
     "output_type": "execute_result"
    }
   ],
   "source": [
    "# combine the two 2017 quarters into a single dataframe\n",
    "\n",
    "rides = pd.concat([pghhr_2017_q1, pghhr_2017_q2])\n",
    "\n",
    "# rescale: I would rather look at numbers of minutes, hours, or even half hours\n",
    "\n",
    "rides[\"dur_hh\"] = rides.Tripduration / ( 20 * 60 )\n",
    "rides.head()"
   ]
  },
  {
   "cell_type": "code",
   "execution_count": 4,
   "metadata": {},
   "outputs": [
    {
     "data": {
      "text/html": [
       "<div>\n",
       "<style>\n",
       "    .dataframe thead tr:only-child th {\n",
       "        text-align: right;\n",
       "    }\n",
       "\n",
       "    .dataframe thead th {\n",
       "        text-align: left;\n",
       "    }\n",
       "\n",
       "    .dataframe tbody tr th {\n",
       "        vertical-align: top;\n",
       "    }\n",
       "</style>\n",
       "<table border=\"1\" class=\"dataframe\">\n",
       "  <thead>\n",
       "    <tr style=\"text-align: right;\">\n",
       "      <th></th>\n",
       "      <th>Usertype</th>\n",
       "      <th>Tripduration</th>\n",
       "      <th>dur_hh</th>\n",
       "    </tr>\n",
       "  </thead>\n",
       "  <tbody>\n",
       "    <tr>\n",
       "      <th>0</th>\n",
       "      <td>Subscriber</td>\n",
       "      <td>110</td>\n",
       "      <td>0.091667</td>\n",
       "    </tr>\n",
       "    <tr>\n",
       "      <th>1</th>\n",
       "      <td>Customer</td>\n",
       "      <td>426</td>\n",
       "      <td>0.355000</td>\n",
       "    </tr>\n",
       "    <tr>\n",
       "      <th>2</th>\n",
       "      <td>Subscriber</td>\n",
       "      <td>1498</td>\n",
       "      <td>1.248333</td>\n",
       "    </tr>\n",
       "    <tr>\n",
       "      <th>3</th>\n",
       "      <td>Customer</td>\n",
       "      <td>1581</td>\n",
       "      <td>1.317500</td>\n",
       "    </tr>\n",
       "    <tr>\n",
       "      <th>4</th>\n",
       "      <td>Customer</td>\n",
       "      <td>1563</td>\n",
       "      <td>1.302500</td>\n",
       "    </tr>\n",
       "  </tbody>\n",
       "</table>\n",
       "</div>"
      ],
      "text/plain": [
       "     Usertype  Tripduration    dur_hh\n",
       "0  Subscriber           110  0.091667\n",
       "1    Customer           426  0.355000\n",
       "2  Subscriber          1498  1.248333\n",
       "3    Customer          1581  1.317500\n",
       "4    Customer          1563  1.302500"
      ]
     },
     "execution_count": 4,
     "metadata": {},
     "output_type": "execute_result"
    }
   ],
   "source": [
    "# focus down on time and duration\n",
    "durations = rides[['Usertype', 'Tripduration','dur_hh']]\n",
    "durations.head()"
   ]
  },
  {
   "cell_type": "markdown",
   "metadata": {},
   "source": [
    "## Confirm Marcus's Results\n",
    "\n",
    "First, let's confirm Marcus's results and look at the same results in terms of half hours"
   ]
  },
  {
   "cell_type": "code",
   "execution_count": 5,
   "metadata": {},
   "outputs": [
    {
     "data": {
      "text/html": [
       "<div>\n",
       "<style>\n",
       "    .dataframe thead tr:only-child th {\n",
       "        text-align: right;\n",
       "    }\n",
       "\n",
       "    .dataframe thead th {\n",
       "        text-align: left;\n",
       "    }\n",
       "\n",
       "    .dataframe tbody tr th {\n",
       "        vertical-align: top;\n",
       "    }\n",
       "</style>\n",
       "<table border=\"1\" class=\"dataframe\">\n",
       "  <thead>\n",
       "    <tr style=\"text-align: right;\">\n",
       "      <th></th>\n",
       "      <th>Tripduration</th>\n",
       "      <th>dur_hh</th>\n",
       "    </tr>\n",
       "    <tr>\n",
       "      <th>Usertype</th>\n",
       "      <th></th>\n",
       "      <th></th>\n",
       "    </tr>\n",
       "  </thead>\n",
       "  <tbody>\n",
       "    <tr>\n",
       "      <th>Customer</th>\n",
       "      <td>4921.921484</td>\n",
       "      <td>4.101601</td>\n",
       "    </tr>\n",
       "    <tr>\n",
       "      <th>Subscriber</th>\n",
       "      <td>1230.911230</td>\n",
       "      <td>1.025759</td>\n",
       "    </tr>\n",
       "  </tbody>\n",
       "</table>\n",
       "</div>"
      ],
      "text/plain": [
       "            Tripduration    dur_hh\n",
       "Usertype                          \n",
       "Customer     4921.921484  4.101601\n",
       "Subscriber   1230.911230  1.025759"
      ]
     },
     "execution_count": 5,
     "metadata": {},
     "output_type": "execute_result"
    }
   ],
   "source": [
    "durations.groupby(['Usertype']).mean()"
   ]
  },
  {
   "cell_type": "markdown",
   "metadata": {},
   "source": [
    "Indeed, I get the same results that Marcus does, but now with a little clear interpretations. It seems that subscribers typically use their bike for half an hour while customers tend to use the back for about 2 hrs at a time. This isn't a complete confirmation, but it does appear that customers and subscribers are using the bikes for different purposes. It is hard to see how a regular two-hour ride could be anything but a recreational ride. It would appear, then, that subscribers are likely using the bikes for commuting while customers are more likely to use the bikes recreationally.\n",
    "\n",
    "## Examine the underlying distributions\n",
    "\n",
    "Let's dig deeper..."
   ]
  },
  {
   "cell_type": "code",
   "execution_count": 6,
   "metadata": {},
   "outputs": [
    {
     "data": {
      "image/png": "[encoded data removed]",
      "text/plain": [
       "<matplotlib.figure.Figure at 0x20e3712f550>"
      ]
     },
     "metadata": {},
     "output_type": "display_data"
    }
   ],
   "source": [
    "# Histogram of the trip duration for all data\n",
    "\n",
    "binwidth = 0.5\n",
    "plt.hist(durations.dur_hh,\n",
    "        bins = np.arange(min(durations.dur_hh), max(durations.dur_hh) + binwidth, binwidth))\n",
    "plt.title(\"Distribution of Trip Durations PGH HealthyRide in 2017\")\n",
    "plt.xlabel(\"Trip Durations (half hours)\")\n",
    "plt.ylabel(\"Frequency\")\n",
    "plt.show()"
   ]
  },
  {
   "cell_type": "markdown",
   "metadata": {},
   "source": [
    "This is highly interesting: the distribution is not normal, but, instead is a power law distribution. There are also some clear outliers. Let's pull those out and look again.\n",
    "\n",
    "### Outliers discovered"
   ]
  },
  {
   "cell_type": "code",
   "execution_count": 7,
   "metadata": {},
   "outputs": [
    {
     "data": {
      "text/plain": [
       "{'boxes': [<matplotlib.lines.Line2D at 0x20e3a6b0eb8>],\n",
       " 'caps': [<matplotlib.lines.Line2D at 0x20e3a6bad68>,\n",
       "  <matplotlib.lines.Line2D at 0x20e3a6bf8d0>],\n",
       " 'fliers': [<matplotlib.lines.Line2D at 0x20e3a6bffd0>],\n",
       " 'means': [],\n",
       " 'medians': [<matplotlib.lines.Line2D at 0x20e3a6bf9e8>],\n",
       " 'whiskers': [<matplotlib.lines.Line2D at 0x20e3a6ba630>,\n",
       "  <matplotlib.lines.Line2D at 0x20e3a6bac50>]}"
      ]
     },
     "execution_count": 7,
     "metadata": {},
     "output_type": "execute_result"
    },
    {
     "data": {
      "image/png": "[encoded data removed]",
      "text/plain": [
       "<matplotlib.figure.Figure at 0x20e32180438>"
      ]
     },
     "metadata": {},
     "output_type": "display_data"
    }
   ],
   "source": [
    "# Use a box plot to identify which values constitute outliers.\n",
    "plt.boxplot(durations.dur_hh)"
   ]
  },
  {
   "cell_type": "markdown",
   "metadata": {},
   "source": [
    "Clearly, rides as much as 140 half hours, or 70 hours long were observed. This is clearly an outlier and likely represents someone who either forgot to end their ride, abused the system, or there was a technical glitch. Though the plot is highly truncated, the bar for the 95% confidence interval appears to be around 8-10 half hours, or 4-5 hours. I will therefore assert that any ride longer than 5 hours (10 half hours) is an outlier."
   ]
  },
  {
   "cell_type": "code",
   "execution_count": 8,
   "metadata": {},
   "outputs": [
    {
     "data": {
      "text/plain": [
       "{'boxes': [<matplotlib.lines.Line2D at 0x20e3a70a0f0>],\n",
       " 'caps': [<matplotlib.lines.Line2D at 0x20e3a7d3a90>,\n",
       "  <matplotlib.lines.Line2D at 0x20e3a7d3c50>],\n",
       " 'fliers': [<matplotlib.lines.Line2D at 0x20e3a7d9cc0>],\n",
       " 'means': [],\n",
       " 'medians': [<matplotlib.lines.Line2D at 0x20e3a7d94a8>],\n",
       " 'whiskers': [<matplotlib.lines.Line2D at 0x20e3a70aa20>,\n",
       "  <matplotlib.lines.Line2D at 0x20e3a70ac18>]}"
      ]
     },
     "execution_count": 8,
     "metadata": {},
     "output_type": "execute_result"
    },
    {
     "data": {
      "image/png": "[encoded data removed]",
      "text/plain": [
       "<matplotlib.figure.Figure at 0x20e3a75b2e8>"
      ]
     },
     "metadata": {},
     "output_type": "display_data"
    }
   ],
   "source": [
    "plt.boxplot(durations.dur_hh[durations.dur_hh <= 10])"
   ]
  },
  {
   "cell_type": "markdown",
   "metadata": {},
   "source": [
    "This is a much more plausible dataset. Indeed, we can now see that the outliers really begin at a duration longer than 3 hours (6 half hours), I'll cut down the original dataset to account for removed outliers were dur_hh > 6. I will not take a look here and now to see if those organizations that are cut are predominantly customers or subscribers. I would encourage someone else on the team to examine this possibility."
   ]
  },
  {
   "cell_type": "code",
   "execution_count": 9,
   "metadata": {},
   "outputs": [
    {
     "name": "stdout",
     "output_type": "stream",
     "text": [
      "(31647, 3)\n",
      "(28954, 3)\n",
      "This step removed 2693 lines of data.\n"
     ]
    }
   ],
   "source": [
    "durations_OR = durations[durations.dur_hh <= 6]\n",
    "\n",
    "print(durations.shape)\n",
    "print(durations_OR.shape)\n",
    "\n",
    "print(\"This step removed %s lines of data.\" % str(durations.shape[0] - durations_OR.shape[0]))"
   ]
  },
  {
   "cell_type": "markdown",
   "metadata": {},
   "source": [
    "### All over again, without outliers"
   ]
  },
  {
   "cell_type": "code",
   "execution_count": 10,
   "metadata": {},
   "outputs": [
    {
     "data": {
      "text/html": [
       "<div>\n",
       "<style>\n",
       "    .dataframe thead tr:only-child th {\n",
       "        text-align: right;\n",
       "    }\n",
       "\n",
       "    .dataframe thead th {\n",
       "        text-align: left;\n",
       "    }\n",
       "\n",
       "    .dataframe tbody tr th {\n",
       "        vertical-align: top;\n",
       "    }\n",
       "</style>\n",
       "<table border=\"1\" class=\"dataframe\">\n",
       "  <thead>\n",
       "    <tr style=\"text-align: right;\">\n",
       "      <th></th>\n",
       "      <th>Tripduration</th>\n",
       "      <th>dur_hh</th>\n",
       "    </tr>\n",
       "    <tr>\n",
       "      <th>Usertype</th>\n",
       "      <th></th>\n",
       "      <th></th>\n",
       "    </tr>\n",
       "  </thead>\n",
       "  <tbody>\n",
       "    <tr>\n",
       "      <th>Customer</th>\n",
       "      <td>2436.112990</td>\n",
       "      <td>2.030094</td>\n",
       "    </tr>\n",
       "    <tr>\n",
       "      <th>Subscriber</th>\n",
       "      <td>850.808698</td>\n",
       "      <td>0.709007</td>\n",
       "    </tr>\n",
       "  </tbody>\n",
       "</table>\n",
       "</div>"
      ],
      "text/plain": [
       "            Tripduration    dur_hh\n",
       "Usertype                          \n",
       "Customer     2436.112990  2.030094\n",
       "Subscriber    850.808698  0.709007"
      ]
     },
     "execution_count": 10,
     "metadata": {},
     "output_type": "execute_result"
    }
   ],
   "source": [
    "# let's review the differences in means now that the outliers have been removed\n",
    "durations_OR.groupby(['Usertype']).mean()"
   ]
  },
  {
   "cell_type": "code",
   "execution_count": 11,
   "metadata": {},
   "outputs": [
    {
     "data": {
      "image/png": "[encoded data removed]",
      "text/plain": [
       "<matplotlib.figure.Figure at 0x20e3a766550>"
      ]
     },
     "metadata": {},
     "output_type": "display_data"
    }
   ],
   "source": [
    "# redo the histogram\n",
    "binwidth = 0.2\n",
    "plt.hist(durations_OR.dur_hh,\n",
    "        bins = np.arange(min(durations_OR.dur_hh), max(durations_OR.dur_hh) + binwidth, binwidth))\n",
    "plt.title(\"Distribution of Trip Durations PGH HealthyRide in 2017\")\n",
    "plt.xlabel(\"Trip Durations (half hours)\")\n",
    "plt.ylabel(\"Frequency\")\n",
    "plt.show()"
   ]
  },
  {
   "cell_type": "markdown",
   "metadata": {},
   "source": [
    "The patterns we saw above are still present, but with some additional nuance. First, that 4:1 ratio for time use between customers and subscribers is reduced to closer to 3:1 (really between about 2.7 and 2.9:1). Additionally, that power law distribution has changed to appear more like a highly skewed normal distribution.\n",
    "\n",
    "Let's now look at distributions by category."
   ]
  },
  {
   "cell_type": "code",
   "execution_count": 12,
   "metadata": {},
   "outputs": [
    {
     "data": {
      "text/plain": [
       "<matplotlib.text.Text at 0x20e3a8cec88>"
      ]
     },
     "execution_count": 12,
     "metadata": {},
     "output_type": "execute_result"
    },
    {
     "data": {
      "image/png": "[encoded data removed]",
      "text/plain": [
       "<matplotlib.figure.Figure at 0x20e3a88d198>"
      ]
     },
     "metadata": {},
     "output_type": "display_data"
    }
   ],
   "source": [
    "COLOR2 = '#beaed4'\n",
    "COLOR3 = '#fdc086'\n",
    "\n",
    "binwidth = 0.2\n",
    "plt.hist(durations_OR.dur_hh[durations_OR.Usertype == \"Customer\"],\n",
    "        bins = np.arange(min(durations_OR.dur_hh), max(durations_OR.dur_hh) + binwidth, binwidth),\n",
    "        color = COLOR2,\n",
    "        histtype = 'step',\n",
    "        label = \"Customers\")\n",
    "plt.hist(durations_OR.dur_hh[durations_OR.Usertype == \"Subscriber\"],\n",
    "        bins = np.arange(min(durations_OR.dur_hh), max(durations_OR.dur_hh) + binwidth, binwidth),\n",
    "        color = COLOR3,\n",
    "        histtype = 'step',\n",
    "        label = \"Subscribers\")\n",
    "plt.title(\"Distribution of Trip Durations PGH HealthyRide in 2017 \\n by group (Yellow: Subscribers; Purple: Customers)\")\n",
    "plt.xlabel(\"Trip Durations (half hours)\")\n",
    "plt.ylabel(\"Frequency\")"
   ]
  },
  {
   "cell_type": "markdown",
   "metadata": {},
   "source": [
    "I now have doubts that an ANOVA is the most appropriate analysis, and, indeed, is likely to produce no statistical difference. I will do so for completion's sake, but the above distributions, I think, lend more credence to the observations made above about how customers and subscribers are using bikes differently. Most riders are still short, lasting less than half an hour, but customers are far more likely to use the bikes for longer.\n",
    "\n",
    "## ANOVA for good measure\n",
    "\n",
    "ANOVA's use the distributions to test of the groups means are different. If the distance between the means is sufficient, given the observed distributions, then we can reject the null hypothesis that the distribtions are the same.\n",
    "\n",
    "`statsmodels` gives us a good way to do ANOVA.\n",
    "\n",
    "See here: http://www.statsmodels.org/dev/anova.html\n",
    "\n",
    "and here: https://www.marsja.se/four-ways-to-conduct-one-way-anovas-using-python/"
   ]
  },
  {
   "cell_type": "code",
   "execution_count": 13,
   "metadata": {},
   "outputs": [
    {
     "data": {
      "text/html": [
       "<div>\n",
       "<style>\n",
       "    .dataframe thead tr:only-child th {\n",
       "        text-align: right;\n",
       "    }\n",
       "\n",
       "    .dataframe thead th {\n",
       "        text-align: left;\n",
       "    }\n",
       "\n",
       "    .dataframe tbody tr th {\n",
       "        vertical-align: top;\n",
       "    }\n",
       "</style>\n",
       "<table border=\"1\" class=\"dataframe\">\n",
       "  <thead>\n",
       "    <tr style=\"text-align: right;\">\n",
       "      <th></th>\n",
       "      <th>sum_sq</th>\n",
       "      <th>df</th>\n",
       "      <th>F</th>\n",
       "      <th>PR(&gt;F)</th>\n",
       "    </tr>\n",
       "  </thead>\n",
       "  <tbody>\n",
       "    <tr>\n",
       "      <th>Usertype</th>\n",
       "      <td>11593.513158</td>\n",
       "      <td>1.0</td>\n",
       "      <td>7566.733483</td>\n",
       "      <td>0.0</td>\n",
       "    </tr>\n",
       "    <tr>\n",
       "      <th>Residual</th>\n",
       "      <td>44359.351849</td>\n",
       "      <td>28952.0</td>\n",
       "      <td>NaN</td>\n",
       "      <td>NaN</td>\n",
       "    </tr>\n",
       "  </tbody>\n",
       "</table>\n",
       "</div>"
      ],
      "text/plain": [
       "                sum_sq       df            F  PR(>F)\n",
       "Usertype  11593.513158      1.0  7566.733483     0.0\n",
       "Residual  44359.351849  28952.0          NaN     NaN"
      ]
     },
     "execution_count": 13,
     "metadata": {},
     "output_type": "execute_result"
    }
   ],
   "source": [
    "mod = ols('dur_hh ~ Usertype', data = durations_OR).fit()\n",
    "anova_table = sm.stats.anova_lm(mod, typ = 2)\n",
    "anova_table"
   ]
  },
  {
   "cell_type": "markdown",
   "metadata": {},
   "source": [
    "The ANOVA does tell us that there is a statistically significant difference between the means. Customers can be expected to use the bike for longer. Our next question is probably to understand where this difference in use comes from, but I doubt we can actually do that from the data that we have on hand."
   ]
  },
  {
   "cell_type": "code",
   "execution_count": null,
   "metadata": {
    "collapsed": true
   },
   "outputs": [],
   "source": []
  },
  {
   "cell_type": "code",
   "execution_count": null,
   "metadata": {
    "collapsed": true
   },
   "outputs": [],
   "source": []
  },
  {
   "cell_type": "code",
   "execution_count": null,
   "metadata": {
    "collapsed": true
   },
   "outputs": [],
   "source": []
  },
  {
   "cell_type": "code",
   "execution_count": null,
   "metadata": {
    "collapsed": true
   },
   "outputs": [],
   "source": []
  }
 ],
 "metadata": {
  "kernelspec": {
   "display_name": "Python 3",
   "language": "python",
   "name": "python3"
  },
  "language_info": {
   "codemirror_mode": {
    "name": "ipython",
    "version": 3
   },
   "file_extension": ".py",
   "mimetype": "text/x-python",
   "name": "python",
   "nbconvert_exporter": "python",
   "pygments_lexer": "ipython3",
   "version": "3.6.1"
  }
 },
 "nbformat": 4,
 "nbformat_minor": 2
}
